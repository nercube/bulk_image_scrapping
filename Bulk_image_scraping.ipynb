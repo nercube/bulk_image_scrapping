{
 "cells": [
  {
   "cell_type": "code",
   "execution_count": 107,
   "id": "39144974-a45b-4cbf-ae99-ce65967ac812",
   "metadata": {},
   "outputs": [],
   "source": [
    "from selenium import webdriver \n",
    "import time\n",
    "import pandas as pd\n",
    "import requests\n",
    "from bs4 import BeautifulSoup\n",
    "from tqdm import tqdm\n",
    "import numpy as np"
   ]
  },
  {
   "cell_type": "code",
   "execution_count": 5,
   "id": "17265fd4-ca60-4a87-83eb-e98cb32a7c36",
   "metadata": {},
   "outputs": [
    {
     "name": "stderr",
     "output_type": "stream",
     "text": [
      "100%|██████████████████████████████████████████████████████████████████████████████| 5000/5000 [13:50<00:00,  6.02it/s]\n"
     ]
    }
   ],
   "source": [
    "link='https://stockmages.netlify.app'\n",
    "browser=webdriver.Chrome()\n",
    "browser.get(link)\n",
    "for i in tqdm(range(0,5000000,1000)):\n",
    "    browser.execute_script(f\"window.scrollTo(0, {i});\")\n",
    "    time.sleep(.1)\n"
   ]
  },
  {
   "cell_type": "code",
   "execution_count": 18,
   "id": "4ef52b96-9b8b-4fd5-9484-c36d56284b35",
   "metadata": {},
   "outputs": [],
   "source": [
    "soup=BeautifulSoup(browser.page_source,'html.parser')"
   ]
  },
  {
   "cell_type": "code",
   "execution_count": 80,
   "id": "885acfea-67ee-4ba7-aea3-d803976c771d",
   "metadata": {},
   "outputs": [
    {
     "name": "stderr",
     "output_type": "stream",
     "text": [
      "100%|████████████████████████████████████████████████████████████████████████████| 9104/9104 [00:03<00:00, 2299.16it/s]\n"
     ]
    }
   ],
   "source": [
    "data=[]\n",
    "for sp in tqdm(soup.find_all('div',class_='container')):\n",
    "    image_link=sp.find(class_='source-img').get('src')\n",
    "    tags=','.join(list(set(sp.find(class_=\"tag-color\").text[7:].split(','))))\n",
    "    likes_comments=sp.find(class_='likes-comments').find_all('span')\n",
    "    likes=likes_comments[0].text[:-6]\n",
    "    comments=likes_comments[1].text[:-9]\n",
    "    data.append([image_link,tags,likes,comments])"
   ]
  },
  {
   "cell_type": "code",
   "execution_count": 90,
   "id": "c531d48d-69e2-48c1-9dd8-c3e46e800288",
   "metadata": {},
   "outputs": [
    {
     "data": {
      "text/html": [
       "<div>\n",
       "<style scoped>\n",
       "    .dataframe tbody tr th:only-of-type {\n",
       "        vertical-align: middle;\n",
       "    }\n",
       "\n",
       "    .dataframe tbody tr th {\n",
       "        vertical-align: top;\n",
       "    }\n",
       "\n",
       "    .dataframe thead th {\n",
       "        text-align: right;\n",
       "    }\n",
       "</style>\n",
       "<table border=\"1\" class=\"dataframe\">\n",
       "  <thead>\n",
       "    <tr style=\"text-align: right;\">\n",
       "      <th></th>\n",
       "      <th>image_link</th>\n",
       "      <th>tags</th>\n",
       "      <th>likes</th>\n",
       "      <th>comments</th>\n",
       "    </tr>\n",
       "  </thead>\n",
       "  <tbody>\n",
       "    <tr>\n",
       "      <th>0</th>\n",
       "      <td>https://cdn.pixabay.com/photo/2022/03/06/05/30...</td>\n",
       "      <td>Sky, Blue Sky,Clouds, Atmosphere</td>\n",
       "      <td>196</td>\n",
       "      <td>55</td>\n",
       "    </tr>\n",
       "    <tr>\n",
       "      <th>1</th>\n",
       "      <td>https://cdn.pixabay.com/photo/2022/04/07/11/45...</td>\n",
       "      <td>Bird, Hummingbird, Ornithology</td>\n",
       "      <td>76</td>\n",
       "      <td>20</td>\n",
       "    </tr>\n",
       "    <tr>\n",
       "      <th>2</th>\n",
       "      <td>https://cdn.pixabay.com/photo/2022/02/28/15/28...</td>\n",
       "      <td>Subtropical, Rainbow,Sea, Rainfall</td>\n",
       "      <td>282</td>\n",
       "      <td>106</td>\n",
       "    </tr>\n",
       "    <tr>\n",
       "      <th>3</th>\n",
       "      <td>https://cdn.pixabay.com/photo/2022/04/04/02/52...</td>\n",
       "      <td>Japan, Sakura,Cherry Blossoms, Road</td>\n",
       "      <td>42</td>\n",
       "      <td>11</td>\n",
       "    </tr>\n",
       "    <tr>\n",
       "      <th>4</th>\n",
       "      <td>https://cdn.pixabay.com/photo/2022/04/09/18/06...</td>\n",
       "      <td>Flower,Cape Marguerite, Plant</td>\n",
       "      <td>39</td>\n",
       "      <td>15</td>\n",
       "    </tr>\n",
       "  </tbody>\n",
       "</table>\n",
       "</div>"
      ],
      "text/plain": [
       "                                          image_link  \\\n",
       "0  https://cdn.pixabay.com/photo/2022/03/06/05/30...   \n",
       "1  https://cdn.pixabay.com/photo/2022/04/07/11/45...   \n",
       "2  https://cdn.pixabay.com/photo/2022/02/28/15/28...   \n",
       "3  https://cdn.pixabay.com/photo/2022/04/04/02/52...   \n",
       "4  https://cdn.pixabay.com/photo/2022/04/09/18/06...   \n",
       "\n",
       "                                   tags likes comments  \n",
       "0      Sky, Blue Sky,Clouds, Atmosphere   196      55   \n",
       "1        Bird, Hummingbird, Ornithology    76      20   \n",
       "2    Subtropical, Rainbow,Sea, Rainfall   282     106   \n",
       "3   Japan, Sakura,Cherry Blossoms, Road    42      11   \n",
       "4         Flower,Cape Marguerite, Plant    39      15   "
      ]
     },
     "execution_count": 90,
     "metadata": {},
     "output_type": "execute_result"
    }
   ],
   "source": [
    "df=pd.DataFrame(data,columns=['image_link','tags','likes','comments'])\n",
    "df.head()"
   ]
  },
  {
   "cell_type": "code",
   "execution_count": 109,
   "id": "751a9e75-a2d7-4253-afbc-96aad6ca98ac",
   "metadata": {},
   "outputs": [
    {
     "name": "stderr",
     "output_type": "stream",
     "text": [
      "100%|██████████████████████████████████████████████████████████████████████████████| 9104/9104 [58:29<00:00,  2.59it/s]\n"
     ]
    }
   ],
   "source": [
    "\n",
    "def download(link,image_path):\n",
    "     try:\n",
    "        res=requests.get(link, timeout=10)\n",
    "        fd=open(image_path, 'wb')\n",
    "        fd.write(res.content)\n",
    "        fd.close()\n",
    "        return True\n",
    "     except:\n",
    "        return False\n",
    "image_paths=[]\n",
    "image_ids=[]\n",
    "i=1\n",
    "for link in tqdm(df['image_link']):\n",
    "    image_id='_' + str(i) + '_'\n",
    "    i+=1\n",
    "    image_path = f\"D:/web_scarpping_projects/image_scrapping_downloads/{image_id}.jpg\"\n",
    "    success=download(link, image_path)\n",
    "    if success:\n",
    "        image_paths.append(image_path)\n",
    "        image_ids.append(image_id)\n",
    "    else:\n",
    "        image_paths.append(np.nan)\n",
    "        image_ids.append(np.nan)\n",
    "df['image_ids'] = image_ids\n",
    "df['image_paths'] = image_paths\n",
    "df.to_csv(\"bulk_images_scrapping.csv\")\n"
   ]
  },
  {
   "cell_type": "code",
   "execution_count": 111,
   "id": "27dbcbd0-3423-4cd6-a1e7-ce9f5c9f93d1",
   "metadata": {},
   "outputs": [
    {
     "data": {
      "text/html": [
       "<div>\n",
       "<style scoped>\n",
       "    .dataframe tbody tr th:only-of-type {\n",
       "        vertical-align: middle;\n",
       "    }\n",
       "\n",
       "    .dataframe tbody tr th {\n",
       "        vertical-align: top;\n",
       "    }\n",
       "\n",
       "    .dataframe thead th {\n",
       "        text-align: right;\n",
       "    }\n",
       "</style>\n",
       "<table border=\"1\" class=\"dataframe\">\n",
       "  <thead>\n",
       "    <tr style=\"text-align: right;\">\n",
       "      <th></th>\n",
       "      <th>image_link</th>\n",
       "      <th>tags</th>\n",
       "      <th>likes</th>\n",
       "      <th>comments</th>\n",
       "      <th>image_ids</th>\n",
       "      <th>image_paths</th>\n",
       "    </tr>\n",
       "  </thead>\n",
       "  <tbody>\n",
       "    <tr>\n",
       "      <th>0</th>\n",
       "      <td>https://cdn.pixabay.com/photo/2022/03/06/05/30...</td>\n",
       "      <td>Sky, Blue Sky,Clouds, Atmosphere</td>\n",
       "      <td>196</td>\n",
       "      <td>55</td>\n",
       "      <td>_1_</td>\n",
       "      <td>D:/web_scarpping_projects/image_scrapping_down...</td>\n",
       "    </tr>\n",
       "    <tr>\n",
       "      <th>1</th>\n",
       "      <td>https://cdn.pixabay.com/photo/2022/04/07/11/45...</td>\n",
       "      <td>Bird, Hummingbird, Ornithology</td>\n",
       "      <td>76</td>\n",
       "      <td>20</td>\n",
       "      <td>_2_</td>\n",
       "      <td>D:/web_scarpping_projects/image_scrapping_down...</td>\n",
       "    </tr>\n",
       "    <tr>\n",
       "      <th>2</th>\n",
       "      <td>https://cdn.pixabay.com/photo/2022/02/28/15/28...</td>\n",
       "      <td>Subtropical, Rainbow,Sea, Rainfall</td>\n",
       "      <td>282</td>\n",
       "      <td>106</td>\n",
       "      <td>NaN</td>\n",
       "      <td>NaN</td>\n",
       "    </tr>\n",
       "    <tr>\n",
       "      <th>3</th>\n",
       "      <td>https://cdn.pixabay.com/photo/2022/04/04/02/52...</td>\n",
       "      <td>Japan, Sakura,Cherry Blossoms, Road</td>\n",
       "      <td>42</td>\n",
       "      <td>11</td>\n",
       "      <td>NaN</td>\n",
       "      <td>NaN</td>\n",
       "    </tr>\n",
       "    <tr>\n",
       "      <th>4</th>\n",
       "      <td>https://cdn.pixabay.com/photo/2022/04/09/18/06...</td>\n",
       "      <td>Flower,Cape Marguerite, Plant</td>\n",
       "      <td>39</td>\n",
       "      <td>15</td>\n",
       "      <td>_5_</td>\n",
       "      <td>D:/web_scarpping_projects/image_scrapping_down...</td>\n",
       "    </tr>\n",
       "  </tbody>\n",
       "</table>\n",
       "</div>"
      ],
      "text/plain": [
       "                                          image_link  \\\n",
       "0  https://cdn.pixabay.com/photo/2022/03/06/05/30...   \n",
       "1  https://cdn.pixabay.com/photo/2022/04/07/11/45...   \n",
       "2  https://cdn.pixabay.com/photo/2022/02/28/15/28...   \n",
       "3  https://cdn.pixabay.com/photo/2022/04/04/02/52...   \n",
       "4  https://cdn.pixabay.com/photo/2022/04/09/18/06...   \n",
       "\n",
       "                                   tags likes comments image_ids  \\\n",
       "0      Sky, Blue Sky,Clouds, Atmosphere   196      55        _1_   \n",
       "1        Bird, Hummingbird, Ornithology    76      20        _2_   \n",
       "2    Subtropical, Rainbow,Sea, Rainfall   282     106        NaN   \n",
       "3   Japan, Sakura,Cherry Blossoms, Road    42      11        NaN   \n",
       "4         Flower,Cape Marguerite, Plant    39      15        _5_   \n",
       "\n",
       "                                         image_paths  \n",
       "0  D:/web_scarpping_projects/image_scrapping_down...  \n",
       "1  D:/web_scarpping_projects/image_scrapping_down...  \n",
       "2                                                NaN  \n",
       "3                                                NaN  \n",
       "4  D:/web_scarpping_projects/image_scrapping_down...  "
      ]
     },
     "execution_count": 111,
     "metadata": {},
     "output_type": "execute_result"
    }
   ],
   "source": [
    "df.head()"
   ]
  },
  {
   "cell_type": "code",
   "execution_count": null,
   "id": "50424a36-a728-45c3-896b-6ff3b95c629d",
   "metadata": {},
   "outputs": [],
   "source": []
  }
 ],
 "metadata": {
  "kernelspec": {
   "display_name": "Python [conda env:base] *",
   "language": "python",
   "name": "conda-base-py"
  },
  "language_info": {
   "codemirror_mode": {
    "name": "ipython",
    "version": 3
   },
   "file_extension": ".py",
   "mimetype": "text/x-python",
   "name": "python",
   "nbconvert_exporter": "python",
   "pygments_lexer": "ipython3",
   "version": "3.12.7"
  }
 },
 "nbformat": 4,
 "nbformat_minor": 5
}
